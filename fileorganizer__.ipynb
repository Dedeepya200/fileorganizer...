{
  "nbformat": 4,
  "nbformat_minor": 0,
  "metadata": {
    "colab": {
      "provenance": [],
      "authorship_tag": "ABX9TyNdy5djwjAq4BsG/torkE/J",
      "include_colab_link": true
    },
    "kernelspec": {
      "name": "python3",
      "display_name": "Python 3"
    },
    "language_info": {
      "name": "python"
    }
  },
  "cells": [
    {
      "cell_type": "markdown",
      "metadata": {
        "id": "view-in-github",
        "colab_type": "text"
      },
      "source": [
        "<a href=\"https://colab.research.google.com/github/Dedeepya200/fileorganizer.../blob/main/fileorganizer__.ipynb\" target=\"_parent\"><img src=\"https://colab.research.google.com/assets/colab-badge.svg\" alt=\"Open In Colab\"/></a>"
      ]
    },
    {
      "cell_type": "code",
      "execution_count": 3,
      "metadata": {
        "id": "IermlBJ0NUsv"
      },
      "outputs": [],
      "source": [
        "import os\n",
        "import shutil\n",
        "\n",
        "image_extension = (\".jpg\", \".jpeg\", \".png\", \".gif\", \".webp\")\n",
        "video_extension = (\".webm\", \".mov\", \".mp4\", \".m4p\", \".m4v\")\n",
        "document_extension = (\".doc\", \".docx\", \".pdf\", \".txt\", \".key\")\n",
        "code_extension = (\".py\", \".java\" ,\".html\", \".css\", \".js\", \".sql\", \".cpp\", \".c\")\n",
        "\n",
        "# For mac: right click and press (option) on your keyboard, this allows you to copy the path name.\n",
        "#Path name of where you want the files to go / direct directory.\n",
        "ddir = \"/Users/keryseverinodiaz/Downloads\"\n",
        "\n",
        "#Checks if the files (exists), if not it (creates) them.\n",
        "# Create subdirectories if they don't exist\n",
        "subdirectories = [\"Images\", \"Videos\", \"Documents\", \"Code\", \"Other\"]\n",
        "for subdir in subdirectories:\n",
        "    path = os.path.join(ddir, subdir)\n",
        "    if not os.path.exists(path):\n",
        "        os.makedirs(path)\n",
        "\n",
        "#Gets the file extensions\n",
        "def get_image(file):\n",
        "    return os.path.splitext(file)[1] in image_extension\n",
        "\n",
        "def get_video(file):\n",
        "    return os.path.splitext(file)[1] in video_extension\n",
        "\n",
        "def get_document(file):\n",
        "    return os.path.splitext(file)[1] in document_extension\n",
        "\n",
        "def get_code(file):\n",
        "    return os.path.splitext(file)[1] in code_extension\n",
        "\n",
        "for file in os.listdir(ddir):\n",
        "    #Checks if the file is in the (directory)\n",
        "    if os.path.isdir(ddir + \"/\" + file):\n",
        "        continue\n",
        "\n",
        "    if get_image(file):\n",
        "        shutil.move(ddir + \"/\" + file, ddir + \"/Images\")\n",
        "    elif get_video(file):\n",
        "        shutil.move(ddir + \"/\" + file, ddir + \"/Videos\")\n",
        "    elif get_document(file):\n",
        "        shutil.move(ddir + \"/\" + file, ddir + \"/Documents\")\n",
        "    elif get_code(file):\n",
        "        shutil.move(ddir + \"/\" + file, ddir + \"/Code\")\n",
        "\n",
        "        print(\"Sorting Completed...\")"
      ]
    }
  ]
}